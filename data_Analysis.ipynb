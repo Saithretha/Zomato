{
 "cells": [
  {
   "cell_type": "markdown",
   "metadata": {},
   "source": [
    "# Import Libraries"
   ]
  },
  {
   "cell_type": "code",
   "execution_count": 1,
   "metadata": {},
   "outputs": [],
   "source": [
    "import pandas as pd\n",
    "import numpy as np\n",
    "import matplotlib.pyplot as plt\n",
    "import seaborn as sns\n",
    "\n",
    "%matplotlib inline\n",
    "\n",
    "import warnings\n",
    "warnings.filterwarnings('ignore')"
   ]
  },
  {
   "cell_type": "markdown",
   "metadata": {},
   "source": [
    "# Data Loading"
   ]
  },
  {
   "cell_type": "code",
   "execution_count": 2,
   "metadata": {},
   "outputs": [],
   "source": [
    "data = pd.read_csv('datasets/processed/zomato-final.csv')"
   ]
  },
  {
   "cell_type": "code",
   "execution_count": 3,
   "metadata": {},
   "outputs": [
    {
     "data": {
      "text/html": [
       "<div>\n",
       "<style scoped>\n",
       "    .dataframe tbody tr th:only-of-type {\n",
       "        vertical-align: middle;\n",
       "    }\n",
       "\n",
       "    .dataframe tbody tr th {\n",
       "        vertical-align: top;\n",
       "    }\n",
       "\n",
       "    .dataframe thead th {\n",
       "        text-align: right;\n",
       "    }\n",
       "</style>\n",
       "<table border=\"1\" class=\"dataframe\">\n",
       "  <thead>\n",
       "    <tr style=\"text-align: right;\">\n",
       "      <th></th>\n",
       "      <th>name</th>\n",
       "      <th>cuisines</th>\n",
       "      <th>aggregate_rating</th>\n",
       "      <th>rating_text</th>\n",
       "      <th>votes</th>\n",
       "      <th>average_cost_for_two</th>\n",
       "      <th>price_range</th>\n",
       "      <th>locality</th>\n",
       "      <th>city</th>\n",
       "      <th>latitude</th>\n",
       "      <th>...</th>\n",
       "      <th>South Indian</th>\n",
       "      <th>Street Food</th>\n",
       "      <th>Sushi</th>\n",
       "      <th>Tex-Mex</th>\n",
       "      <th>Thai</th>\n",
       "      <th>Tibetan</th>\n",
       "      <th>Vietnamese</th>\n",
       "      <th>places</th>\n",
       "      <th>cuisine_count</th>\n",
       "      <th>place_type</th>\n",
       "    </tr>\n",
       "  </thead>\n",
       "  <tbody>\n",
       "    <tr>\n",
       "      <th>0</th>\n",
       "      <td>Sahib’s Barbeque by Ohri’s</td>\n",
       "      <td>Hyderabadi, Awadhi, BBQ</td>\n",
       "      <td>4.9</td>\n",
       "      <td>Excellent</td>\n",
       "      <td>7647</td>\n",
       "      <td>1400</td>\n",
       "      <td>3</td>\n",
       "      <td>Hitech City</td>\n",
       "      <td>Hyderabad</td>\n",
       "      <td>17.441403</td>\n",
       "      <td>...</td>\n",
       "      <td>0</td>\n",
       "      <td>0</td>\n",
       "      <td>0</td>\n",
       "      <td>0</td>\n",
       "      <td>0</td>\n",
       "      <td>0</td>\n",
       "      <td>0</td>\n",
       "      <td>None</td>\n",
       "      <td>3</td>\n",
       "      <td>None</td>\n",
       "    </tr>\n",
       "    <tr>\n",
       "      <th>1</th>\n",
       "      <td>Chili's American Grill &amp; Bar</td>\n",
       "      <td>Mexican, American, Tex-Mex, Burger, Salad</td>\n",
       "      <td>4.9</td>\n",
       "      <td>Excellent</td>\n",
       "      <td>5313</td>\n",
       "      <td>1400</td>\n",
       "      <td>3</td>\n",
       "      <td>Banjara Hills</td>\n",
       "      <td>Hyderabad</td>\n",
       "      <td>17.422829</td>\n",
       "      <td>...</td>\n",
       "      <td>0</td>\n",
       "      <td>0</td>\n",
       "      <td>0</td>\n",
       "      <td>1</td>\n",
       "      <td>0</td>\n",
       "      <td>0</td>\n",
       "      <td>0</td>\n",
       "      <td>None</td>\n",
       "      <td>5</td>\n",
       "      <td>None</td>\n",
       "    </tr>\n",
       "    <tr>\n",
       "      <th>2</th>\n",
       "      <td>Ohri's Tansen</td>\n",
       "      <td>North Indian</td>\n",
       "      <td>4.9</td>\n",
       "      <td>Excellent</td>\n",
       "      <td>3076</td>\n",
       "      <td>1500</td>\n",
       "      <td>3</td>\n",
       "      <td>Necklace Road</td>\n",
       "      <td>Hyderabad</td>\n",
       "      <td>17.431671</td>\n",
       "      <td>...</td>\n",
       "      <td>0</td>\n",
       "      <td>0</td>\n",
       "      <td>0</td>\n",
       "      <td>0</td>\n",
       "      <td>0</td>\n",
       "      <td>0</td>\n",
       "      <td>0</td>\n",
       "      <td>None</td>\n",
       "      <td>1</td>\n",
       "      <td>None</td>\n",
       "    </tr>\n",
       "    <tr>\n",
       "      <th>3</th>\n",
       "      <td>Ohri's Serengeti</td>\n",
       "      <td>North Indian</td>\n",
       "      <td>4.9</td>\n",
       "      <td>Excellent</td>\n",
       "      <td>2493</td>\n",
       "      <td>1500</td>\n",
       "      <td>3</td>\n",
       "      <td>Banjara Hills</td>\n",
       "      <td>Hyderabad</td>\n",
       "      <td>17.408402</td>\n",
       "      <td>...</td>\n",
       "      <td>0</td>\n",
       "      <td>0</td>\n",
       "      <td>0</td>\n",
       "      <td>0</td>\n",
       "      <td>0</td>\n",
       "      <td>0</td>\n",
       "      <td>0</td>\n",
       "      <td>None</td>\n",
       "      <td>1</td>\n",
       "      <td>None</td>\n",
       "    </tr>\n",
       "    <tr>\n",
       "      <th>4</th>\n",
       "      <td>AB's - Absolute Barbecues</td>\n",
       "      <td>European, Mediterranean, North Indian</td>\n",
       "      <td>4.9</td>\n",
       "      <td>Excellent</td>\n",
       "      <td>7164</td>\n",
       "      <td>1200</td>\n",
       "      <td>3</td>\n",
       "      <td>Gachibowli</td>\n",
       "      <td>Hyderabad</td>\n",
       "      <td>17.442988</td>\n",
       "      <td>...</td>\n",
       "      <td>0</td>\n",
       "      <td>0</td>\n",
       "      <td>0</td>\n",
       "      <td>0</td>\n",
       "      <td>0</td>\n",
       "      <td>0</td>\n",
       "      <td>0</td>\n",
       "      <td>None</td>\n",
       "      <td>3</td>\n",
       "      <td>None</td>\n",
       "    </tr>\n",
       "  </tbody>\n",
       "</table>\n",
       "<p>5 rows × 62 columns</p>\n",
       "</div>"
      ],
      "text/plain": [
       "                           name                                   cuisines  \\\n",
       "0    Sahib’s Barbeque by Ohri’s                    Hyderabadi, Awadhi, BBQ   \n",
       "1  Chili's American Grill & Bar  Mexican, American, Tex-Mex, Burger, Salad   \n",
       "2                 Ohri's Tansen                               North Indian   \n",
       "3              Ohri's Serengeti                               North Indian   \n",
       "4     AB's - Absolute Barbecues      European, Mediterranean, North Indian   \n",
       "\n",
       "   aggregate_rating rating_text  votes  average_cost_for_two  price_range  \\\n",
       "0               4.9   Excellent   7647                  1400            3   \n",
       "1               4.9   Excellent   5313                  1400            3   \n",
       "2               4.9   Excellent   3076                  1500            3   \n",
       "3               4.9   Excellent   2493                  1500            3   \n",
       "4               4.9   Excellent   7164                  1200            3   \n",
       "\n",
       "        locality       city   latitude     ...      South Indian  Street Food  \\\n",
       "0    Hitech City  Hyderabad  17.441403     ...                 0            0   \n",
       "1  Banjara Hills  Hyderabad  17.422829     ...                 0            0   \n",
       "2  Necklace Road  Hyderabad  17.431671     ...                 0            0   \n",
       "3  Banjara Hills  Hyderabad  17.408402     ...                 0            0   \n",
       "4     Gachibowli  Hyderabad  17.442988     ...                 0            0   \n",
       "\n",
       "   Sushi  Tex-Mex  Thai  Tibetan  Vietnamese  places  cuisine_count  \\\n",
       "0      0        0     0        0           0    None              3   \n",
       "1      0        1     0        0           0    None              5   \n",
       "2      0        0     0        0           0    None              1   \n",
       "3      0        0     0        0           0    None              1   \n",
       "4      0        0     0        0           0    None              3   \n",
       "\n",
       "   place_type  \n",
       "0        None  \n",
       "1        None  \n",
       "2        None  \n",
       "3        None  \n",
       "4        None  \n",
       "\n",
       "[5 rows x 62 columns]"
      ]
     },
     "execution_count": 3,
     "metadata": {},
     "output_type": "execute_result"
    }
   ],
   "source": [
    "data.head(5)"
   ]
  },
  {
   "cell_type": "code",
   "execution_count": 4,
   "metadata": {},
   "outputs": [
    {
     "data": {
      "text/plain": [
       "Index(['name', 'cuisines', 'aggregate_rating', 'rating_text', 'votes',\n",
       "       'average_cost_for_two', 'price_range', 'locality', 'city', 'latitude',\n",
       "       'longitude', 'has_online_delivery', 'has_table_booking', 'American',\n",
       "       'Andhra', 'Arabian', 'Asian', 'Awadhi', 'BBQ', 'Bakery', 'Beverages',\n",
       "       'Biryani', 'Burger', 'Burmese', 'Cafe', 'Chinese', 'Coffee',\n",
       "       'Continental', 'Desserts', 'European', 'Fast Food', 'Gujarati',\n",
       "       'Healthy Food', 'Hyderabadi', 'Ice Cream', 'Italian', 'Japanese',\n",
       "       'Juices', 'Lebanese', 'Mediterranean', 'Mexican', 'Modern Indian',\n",
       "       'Momos', 'Mughlai', 'North Indian', 'Parsi', 'Pizza', 'Rajasthani',\n",
       "       'Rolls', 'Salad', 'Sandwich', 'Seafood', 'South Indian', 'Street Food',\n",
       "       'Sushi', 'Tex-Mex', 'Thai', 'Tibetan', 'Vietnamese', 'places',\n",
       "       'cuisine_count', 'place_type'],\n",
       "      dtype='object')"
      ]
     },
     "execution_count": 4,
     "metadata": {},
     "output_type": "execute_result"
    }
   ],
   "source": [
    "data.columns"
   ]
  },
  {
   "cell_type": "code",
   "execution_count": 5,
   "metadata": {},
   "outputs": [
    {
     "data": {
      "text/plain": [
       "(132, 62)"
      ]
     },
     "execution_count": 5,
     "metadata": {},
     "output_type": "execute_result"
    }
   ],
   "source": [
    "data.shape"
   ]
  },
  {
   "cell_type": "markdown",
   "metadata": {},
   "source": [
    "# Missing Values"
   ]
  },
  {
   "cell_type": "code",
   "execution_count": 6,
   "metadata": {},
   "outputs": [
    {
     "data": {
      "text/plain": [
       "name                    0\n",
       "cuisines                0\n",
       "aggregate_rating        0\n",
       "rating_text             0\n",
       "votes                   0\n",
       "average_cost_for_two    0\n",
       "price_range             0\n",
       "locality                0\n",
       "city                    0\n",
       "latitude                0\n",
       "longitude               0\n",
       "has_online_delivery     0\n",
       "has_table_booking       0\n",
       "American                0\n",
       "Andhra                  0\n",
       "Arabian                 0\n",
       "Asian                   0\n",
       "Awadhi                  0\n",
       "BBQ                     0\n",
       "Bakery                  0\n",
       "Beverages               0\n",
       "Biryani                 0\n",
       "Burger                  0\n",
       "Burmese                 0\n",
       "Cafe                    0\n",
       "Chinese                 0\n",
       "Coffee                  0\n",
       "Continental             0\n",
       "Desserts                0\n",
       "European                0\n",
       "                       ..\n",
       "Healthy Food            0\n",
       "Hyderabadi              0\n",
       "Ice Cream               0\n",
       "Italian                 0\n",
       "Japanese                0\n",
       "Juices                  0\n",
       "Lebanese                0\n",
       "Mediterranean           0\n",
       "Mexican                 0\n",
       "Modern Indian           0\n",
       "Momos                   0\n",
       "Mughlai                 0\n",
       "North Indian            0\n",
       "Parsi                   0\n",
       "Pizza                   0\n",
       "Rajasthani              0\n",
       "Rolls                   0\n",
       "Salad                   0\n",
       "Sandwich                0\n",
       "Seafood                 0\n",
       "South Indian            0\n",
       "Street Food             0\n",
       "Sushi                   0\n",
       "Tex-Mex                 0\n",
       "Thai                    0\n",
       "Tibetan                 0\n",
       "Vietnamese              0\n",
       "places                  0\n",
       "cuisine_count           0\n",
       "place_type              0\n",
       "Length: 62, dtype: int64"
      ]
     },
     "execution_count": 6,
     "metadata": {},
     "output_type": "execute_result"
    }
   ],
   "source": [
    "data.isna().sum()"
   ]
  },
  {
   "cell_type": "markdown",
   "metadata": {},
   "source": [
    "# Preprocessing and visualizations"
   ]
  },
  {
   "cell_type": "code",
   "execution_count": 7,
   "metadata": {},
   "outputs": [
    {
     "data": {
      "text/plain": [
       "AB's - Absolute Barbecues    6\n",
       "Barbeque Pride               4\n",
       "Paradise Biryani             4\n",
       "Natural Ice Cream            3\n",
       "Coconut Juice Bar            3\n",
       "Name: name, dtype: int64"
      ]
     },
     "execution_count": 7,
     "metadata": {},
     "output_type": "execute_result"
    }
   ],
   "source": [
    "data.name.value_counts().head()"
   ]
  },
  {
   "cell_type": "code",
   "execution_count": 8,
   "metadata": {},
   "outputs": [
    {
     "data": {
      "text/plain": [
       "<matplotlib.axes._subplots.AxesSubplot at 0x285aa0f4a58>"
      ]
     },
     "execution_count": 8,
     "metadata": {},
     "output_type": "execute_result"
    },
    {
     "data": {
      "image/png": "[encoded data removed]",
      "text/plain": [
       "<Figure size 864x576 with 1 Axes>"
      ]
     },
     "metadata": {},
     "output_type": "display_data"
    }
   ],
   "source": [
    "plt.figure(figsize = (12,8))\n",
    "hotels = data.name.value_counts()[:20]\n",
    "sns.barplot(hotels,hotels.index,palette=\"rocket\")"
   ]
  },
  {
   "cell_type": "markdown",
   "metadata": {},
   "source": [
    "AB's Absolute Barbecues has more number of Restaurants in Hyderabad"
   ]
  },
  {
   "cell_type": "markdown",
   "metadata": {},
   "source": [
    "Online orders"
   ]
  },
  {
   "cell_type": "markdown",
   "metadata": {},
   "source": [
    "Are restuarants accepting online orders, if yes, how many?"
   ]
  },
  {
   "cell_type": "code",
   "execution_count": 9,
   "metadata": {},
   "outputs": [
    {
     "data": {
      "text/plain": [
       "1    73\n",
       "0    59\n",
       "Name: has_online_delivery, dtype: int64"
      ]
     },
     "execution_count": 9,
     "metadata": {},
     "output_type": "execute_result"
    }
   ],
   "source": [
    "data.has_online_delivery.value_counts()"
   ]
  },
  {
   "cell_type": "code",
   "execution_count": 10,
   "metadata": {},
   "outputs": [
    {
     "data": {
      "text/plain": [
       "Text(0.5,1,'Online Order')"
      ]
     },
     "execution_count": 10,
     "metadata": {},
     "output_type": "execute_result"
    },
    {
     "data": {
      "image/png": "[encoded data removed]",
      "text/plain": [
       "<Figure size 432x288 with 1 Axes>"
      ]
     },
     "metadata": {},
     "output_type": "display_data"
    }
   ],
   "source": [
    "ax = sns.countplot(data['has_online_delivery'])\n",
    "plt.title('Online Order',weight='bold')"
   ]
  },
  {
   "cell_type": "markdown",
   "metadata": {},
   "source": [
    "Book Table"
   ]
  },
  {
   "cell_type": "code",
   "execution_count": 11,
   "metadata": {},
   "outputs": [
    {
     "data": {
      "text/plain": [
       "0    80\n",
       "1    52\n",
       "Name: has_table_booking, dtype: int64"
      ]
     },
     "execution_count": 11,
     "metadata": {},
     "output_type": "execute_result"
    }
   ],
   "source": [
    "data['has_table_booking'].value_counts()"
   ]
  },
  {
   "cell_type": "code",
   "execution_count": 12,
   "metadata": {},
   "outputs": [
    {
     "data": {
      "text/plain": [
       "Text(0.5,1,'Book Table')"
      ]
     },
     "execution_count": 12,
     "metadata": {},
     "output_type": "execute_result"
    },
    {
     "data": {
      "image/png": "[encoded data removed]",
      "text/plain": [
       "<Figure size 432x288 with 1 Axes>"
      ]
     },
     "metadata": {},
     "output_type": "display_data"
    }
   ],
   "source": [
    "sns.countplot(data['has_table_booking'],palette ='Set1')\n",
    "plt.title(\"Book Table\",weight='bold')"
   ]
  },
  {
   "cell_type": "markdown",
   "metadata": {},
   "source": [
    "Major restaurants have table booking"
   ]
  },
  {
   "cell_type": "markdown",
   "metadata": {},
   "source": [
    "# Location"
   ]
  },
  {
   "cell_type": "code",
   "execution_count": 13,
   "metadata": {},
   "outputs": [
    {
     "data": {
      "text/plain": [
       "Jubilee Hills      31\n",
       "Banjara Hills      24\n",
       "Hitech City        18\n",
       "Gachibowli          9\n",
       "Madhapur            5\n",
       "Kondapur            4\n",
       "Basheer Bagh        3\n",
       "Lakdikapul          3\n",
       "Sainikpuri          3\n",
       "Somajiguda          3\n",
       "Kompally            3\n",
       "Film Nagar          2\n",
       "Charminar           2\n",
       "Paradise Circle     2\n",
       "Bowenpally          2\n",
       "Begumpet            2\n",
       "Necklace Road       2\n",
       "Rani Gunj           1\n",
       "Gandipet            1\n",
       "Ameerpet            1\n",
       "Marigold Hotel      1\n",
       "S D Road            1\n",
       "Srinagar Colony     1\n",
       "Kukatpally          1\n",
       "Nampally            1\n",
       "Karkhana            1\n",
       "Himayath Nagar      1\n",
       "Falaknuma           1\n",
       "S P Road            1\n",
       "Shamirpet           1\n",
       "Miyapur             1\n",
       "Name: locality, dtype: int64"
      ]
     },
     "execution_count": 13,
     "metadata": {},
     "output_type": "execute_result"
    }
   ],
   "source": [
    "data['locality'].value_counts()"
   ]
  },
  {
   "cell_type": "code",
   "execution_count": 14,
   "metadata": {},
   "outputs": [
    {
     "data": {
      "text/plain": [
       "Text(0.5,1,'Location')"
      ]
     },
     "execution_count": 14,
     "metadata": {},
     "output_type": "execute_result"
    },
    {
     "data": {
      "image/png": "[encoded data removed]",
      "text/plain": [
       "<Figure size 864x576 with 1 Axes>"
      ]
     },
     "metadata": {},
     "output_type": "display_data"
    }
   ],
   "source": [
    "plt.figure(figsize=(12,8)) \n",
    "data['locality'].value_counts()[:10].plot(kind = 'pie')\n",
    "plt.title('Location', weight = 'bold')"
   ]
  },
  {
   "cell_type": "code",
   "execution_count": 15,
   "metadata": {
    "scrolled": true
   },
   "outputs": [
    {
     "data": {
      "text/plain": [
       "Text(0.5,1,'Location vs Count')"
      ]
     },
     "execution_count": 15,
     "metadata": {},
     "output_type": "execute_result"
    },
    {
     "data": {
      "image/png": "[encoded data removed]",
      "text/plain": [
       "<Figure size 864x432 with 1 Axes>"
      ]
     },
     "metadata": {},
     "output_type": "display_data"
    }
   ],
   "source": [
    "plt.figure(figsize = (12,6))\n",
    "data['locality'].value_counts()[:10].plot(kind = 'bar', color = 'g')\n",
    "plt.title(\"Location vs Count\", weight = 'bold')"
   ]
  },
  {
   "cell_type": "markdown",
   "metadata": {},
   "source": [
    "Highest number of restaurants in Jubliee hills"
   ]
  },
  {
   "cell_type": "code",
   "execution_count": 16,
   "metadata": {},
   "outputs": [
    {
     "data": {
      "text/plain": [
       "31"
      ]
     },
     "execution_count": 16,
     "metadata": {},
     "output_type": "execute_result"
    }
   ],
   "source": [
    "data['locality'].nunique()"
   ]
  },
  {
   "cell_type": "code",
   "execution_count": 17,
   "metadata": {},
   "outputs": [],
   "source": [
    "cuisines_count= []\n",
    "\n",
    "for i in data.cuisines:\n",
    "    for j in i.split(','):\n",
    "        j = j.strip()\n",
    "        cuisines_count.append(j)"
   ]
  },
  {
   "cell_type": "code",
   "execution_count": 18,
   "metadata": {},
   "outputs": [
    {
     "data": {
      "text/plain": [
       "Text(0,0.5,'Count')"
      ]
     },
     "execution_count": 18,
     "metadata": {},
     "output_type": "execute_result"
    },
    {
     "data": {
      "image/png": "[encoded data removed]",
      "text/plain": [
       "<Figure size 864x432 with 1 Axes>"
      ]
     },
     "metadata": {},
     "output_type": "display_data"
    }
   ],
   "source": [
    "plt.figure(figsize=(12,6)) \n",
    "pd.Series(cuisines_count).value_counts()[:10].plot(kind='bar',color= 'r')\n",
    "plt.title('Top 10 cuisines in Hyderabad',weight='bold')\n",
    "plt.xlabel('cuisine')\n",
    "plt.ylabel('Count')"
   ]
  },
  {
   "cell_type": "markdown",
   "metadata": {},
   "source": [
    "# Rate Vs Online Order"
   ]
  },
  {
   "cell_type": "code",
   "execution_count": 19,
   "metadata": {},
   "outputs": [
    {
     "data": {
      "text/plain": [
       "<matplotlib.axes._subplots.AxesSubplot at 0x285aa0f40b8>"
      ]
     },
     "execution_count": 19,
     "metadata": {},
     "output_type": "execute_result"
    },
    {
     "data": {
      "image/png": "[encoded data removed]",
      "text/plain": [
       "<Figure size 864x432 with 1 Axes>"
      ]
     },
     "metadata": {},
     "output_type": "display_data"
    }
   ],
   "source": [
    "plt.figure(figsize = (12,6))\n",
    "sns.countplot(x=data['average_cost_for_two'], hue = data['has_online_delivery'])"
   ]
  },
  {
   "cell_type": "code",
   "execution_count": 20,
   "metadata": {},
   "outputs": [
    {
     "data": {
      "text/plain": [
       "1200    20\n",
       "800     11\n",
       "1500    10\n",
       "600      8\n",
       "1800     7\n",
       "400      7\n",
       "200      7\n",
       "500      7\n",
       "1000     6\n",
       "1100     6\n",
       "1400     6\n",
       "1600     4\n",
       "250      4\n",
       "150      3\n",
       "2200     3\n",
       "1900     3\n",
       "350      3\n",
       "2000     3\n",
       "1300     3\n",
       "1550     2\n",
       "Name: average_cost_for_two, dtype: int64"
      ]
     },
     "execution_count": 20,
     "metadata": {},
     "output_type": "execute_result"
    }
   ],
   "source": [
    "data['average_cost_for_two'].value_counts()[:20]"
   ]
  },
  {
   "cell_type": "code",
   "execution_count": 21,
   "metadata": {},
   "outputs": [
    {
     "data": {
      "text/plain": [
       "Text(0.5,1,'aggregate_rating vs Count')"
      ]
     },
     "execution_count": 21,
     "metadata": {},
     "output_type": "execute_result"
    },
    {
     "data": {
      "image/png": "[encoded data removed]",
      "text/plain": [
       "<Figure size 864x432 with 1 Axes>"
      ]
     },
     "metadata": {},
     "output_type": "display_data"
    }
   ],
   "source": [
    "plt.figure(figsize = (12,6))\n",
    "data['aggregate_rating'].value_counts()[:10].plot(kind = 'bar', color = 'g')\n",
    "plt.title(\"aggregate_rating vs Count\", weight = 'bold')"
   ]
  },
  {
   "cell_type": "code",
   "execution_count": 23,
   "metadata": {},
   "outputs": [
    {
     "data": {
      "image/png": "[encoded data removed]",
      "text/plain": [
       "<Figure size 432x432 with 3 Axes>"
      ]
     },
     "metadata": {},
     "output_type": "display_data"
    }
   ],
   "source": [
    "#joint plot for 'rate' and 'votes'\n",
    "sns.jointplot(x = \"aggregate_rating\", y = \"votes\", data = data, ratio=4, color=\"g\")\n",
    "plt.show()"
   ]
  },
  {
   "cell_type": "code",
   "execution_count": 25,
   "metadata": {},
   "outputs": [
    {
     "ename": "AttributeError",
     "evalue": "module 'seaborn' has no attribute 'catplot'",
     "output_type": "error",
     "traceback": [
      "\u001b[1;31m---------------------------------------------------------------------------\u001b[0m",
      "\u001b[1;31mAttributeError\u001b[0m                            Traceback (most recent call last)",
      "\u001b[1;32m<ipython-input-25-9585088ea7d9>\u001b[0m in \u001b[0;36m<module>\u001b[1;34m()\u001b[0m\n\u001b[0;32m      1\u001b[0m \u001b[1;32mimport\u001b[0m \u001b[0mseaborn\u001b[0m \u001b[1;32mas\u001b[0m \u001b[0msns\u001b[0m\u001b[1;33m\u001b[0m\u001b[0m\n\u001b[1;32m----> 2\u001b[1;33m \u001b[0msns\u001b[0m\u001b[1;33m.\u001b[0m\u001b[0mcatplot\u001b[0m\u001b[1;33m(\u001b[0m\u001b[0mx\u001b[0m\u001b[1;33m=\u001b[0m\u001b[1;34m\"name\"\u001b[0m\u001b[1;33m,\u001b[0m\u001b[0my\u001b[0m\u001b[1;33m=\u001b[0m\u001b[1;34m\"aggregate_rating\"\u001b[0m\u001b[1;33m,\u001b[0m\u001b[0mkind\u001b[0m\u001b[1;33m=\u001b[0m\u001b[1;34m'count'\u001b[0m\u001b[1;33m,\u001b[0m\u001b[0mdata\u001b[0m\u001b[1;33m=\u001b[0m\u001b[0mdata\u001b[0m\u001b[1;33m)\u001b[0m\u001b[1;33m\u001b[0m\u001b[0m\n\u001b[0m",
      "\u001b[1;31mAttributeError\u001b[0m: module 'seaborn' has no attribute 'catplot'"
     ]
    }
   ],
   "source": []
  },
  {
   "cell_type": "code",
   "execution_count": null,
   "metadata": {},
   "outputs": [],
   "source": []
  }
 ],
 "metadata": {
  "kernelspec": {
   "display_name": "Python 3",
   "language": "python",
   "name": "python3"
  },
  "language_info": {
   "codemirror_mode": {
    "name": "ipython",
    "version": 3
   },
   "file_extension": ".py",
   "mimetype": "text/x-python",
   "name": "python",
   "nbconvert_exporter": "python",
   "pygments_lexer": "ipython3",
   "version": "3.6.5"
  }
 },
 "nbformat": 4,
 "nbformat_minor": 2
}
